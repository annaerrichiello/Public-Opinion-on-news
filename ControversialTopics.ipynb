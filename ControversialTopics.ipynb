{
  "nbformat": 4,
  "nbformat_minor": 0,
  "metadata": {
    "colab": {
      "name": "ControversialTopics.ipynb",
      "provenance": []
    },
    "kernelspec": {
      "name": "python3",
      "display_name": "Python 3"
    },
    "language_info": {
      "name": "python"
    }
  },
  "cells": [
    {
      "cell_type": "code",
      "metadata": {
        "id": "hyIs0bSEhyVp"
      },
      "source": [
        "comments_info = comments_info[comments_info.predicted != 0]"
      ],
      "execution_count": null,
      "outputs": []
    },
    {
      "cell_type": "code",
      "metadata": {
        "colab": {
          "base_uri": "https://localhost:8080/"
        },
        "id": "pf5r3VkIhzJh",
        "outputId": "01302d4d-dc34-499c-b5bd-6bb80d54d757"
      },
      "source": [
        "comments_info.info() #from 2.176.363 to 1.421.973 (popular) comments"
      ],
      "execution_count": null,
      "outputs": [
        {
          "output_type": "stream",
          "text": [
            "<class 'pandas.core.frame.DataFrame'>\n",
            "Int64Index: 1421973 entries, 16 to 2176363\n",
            "Data columns (total 36 columns):\n",
            " #   Column                 Non-Null Count    Dtype  \n",
            "---  ------                 --------------    -----  \n",
            " 0   approveDate            1421973 non-null  int64  \n",
            " 1   articleID              1421973 non-null  object \n",
            " 2   articleWordCount       1421973 non-null  float64\n",
            " 3   commentBody            1421973 non-null  object \n",
            " 4   commentID              1421973 non-null  float64\n",
            " 5   commentSequence        1421973 non-null  float64\n",
            " 6   commentTitle           1379712 non-null  object \n",
            " 7   commentType            1421973 non-null  object \n",
            " 8   createDate             1421973 non-null  float64\n",
            " 9   depth                  1421973 non-null  float64\n",
            " 10  editorsSelection       1421973 non-null  int64  \n",
            " 11  inReplyTo              1421973 non-null  float64\n",
            " 12  newDesk                1421973 non-null  object \n",
            " 13  parentID               1421973 non-null  float64\n",
            " 14  parentUserDisplayName  1 non-null        object \n",
            " 15  permID                 1421970 non-null  object \n",
            " 16  picURL                 1421973 non-null  object \n",
            " 17  printPage              1421973 non-null  float64\n",
            " 18  recommendations        1421973 non-null  float64\n",
            " 19  recommendedFlag        0 non-null        float64\n",
            " 20  replyCount             1421973 non-null  float64\n",
            " 21  reportAbuseFlag        0 non-null        float64\n",
            " 22  sectionName            1319016 non-null  object \n",
            " 23  sharing                1421973 non-null  int64  \n",
            " 24  status                 1421973 non-null  object \n",
            " 25  timespeople            1421973 non-null  float64\n",
            " 26  trusted                1421973 non-null  float64\n",
            " 27  updateDate             1421973 non-null  int64  \n",
            " 28  userDisplayName        1421629 non-null  object \n",
            " 29  userID                 1421973 non-null  float64\n",
            " 30  userLocation           1421884 non-null  object \n",
            " 31  userTitle              3 non-null        object \n",
            " 32  userURL                0 non-null        object \n",
            " 33  typeOfMaterial         1421973 non-null  object \n",
            " 34  y                      1421973 non-null  int64  \n",
            " 35  predicted              1421973 non-null  int64  \n",
            "dtypes: float64(15), int64(6), object(15)\n",
            "memory usage: 401.4+ MB\n"
          ],
          "name": "stdout"
        }
      ]
    },
    {
      "cell_type": "code",
      "metadata": {
        "id": "zh6GyF7mh2pv"
      },
      "source": [
        "inner_join = pd.merge(left=df_dominant_topic, right=comments_info, left_on='articleID', right_on='articleID')"
      ],
      "execution_count": null,
      "outputs": []
    },
    {
      "cell_type": "code",
      "metadata": {
        "colab": {
          "base_uri": "https://localhost:8080/",
          "height": 1000
        },
        "id": "QAVfXS_eh81M",
        "outputId": "fd905338-a753-435f-9816-e1e971862db7"
      },
      "source": [
        "inner_join"
      ],
      "execution_count": null,
      "outputs": [
        {
          "output_type": "execute_result",
          "data": {
            "text/html": [
              "<div>\n",
              "<style scoped>\n",
              "    .dataframe tbody tr th:only-of-type {\n",
              "        vertical-align: middle;\n",
              "    }\n",
              "\n",
              "    .dataframe tbody tr th {\n",
              "        vertical-align: top;\n",
              "    }\n",
              "\n",
              "    .dataframe thead th {\n",
              "        text-align: right;\n",
              "    }\n",
              "</style>\n",
              "<table border=\"1\" class=\"dataframe\">\n",
              "  <thead>\n",
              "    <tr style=\"text-align: right;\">\n",
              "      <th></th>\n",
              "      <th>Document_No</th>\n",
              "      <th>Dominant_Topic</th>\n",
              "      <th>Topic_Perc_Contrib</th>\n",
              "      <th>Keywords</th>\n",
              "      <th>Text</th>\n",
              "      <th>articleID</th>\n",
              "      <th>approveDate</th>\n",
              "      <th>articleWordCount</th>\n",
              "      <th>commentBody</th>\n",
              "      <th>commentID</th>\n",
              "      <th>commentSequence</th>\n",
              "      <th>commentTitle</th>\n",
              "      <th>commentType</th>\n",
              "      <th>createDate</th>\n",
              "      <th>depth</th>\n",
              "      <th>editorsSelection</th>\n",
              "      <th>inReplyTo</th>\n",
              "      <th>newDesk</th>\n",
              "      <th>parentID</th>\n",
              "      <th>parentUserDisplayName</th>\n",
              "      <th>permID</th>\n",
              "      <th>picURL</th>\n",
              "      <th>printPage</th>\n",
              "      <th>recommendations</th>\n",
              "      <th>recommendedFlag</th>\n",
              "      <th>replyCount</th>\n",
              "      <th>reportAbuseFlag</th>\n",
              "      <th>sectionName</th>\n",
              "      <th>sharing</th>\n",
              "      <th>status</th>\n",
              "      <th>timespeople</th>\n",
              "      <th>trusted</th>\n",
              "      <th>updateDate</th>\n",
              "      <th>userDisplayName</th>\n",
              "      <th>userID</th>\n",
              "      <th>userLocation</th>\n",
              "      <th>userTitle</th>\n",
              "      <th>userURL</th>\n",
              "      <th>typeOfMaterial</th>\n",
              "      <th>y</th>\n",
              "      <th>predicted</th>\n",
              "    </tr>\n",
              "  </thead>\n",
              "  <tbody>\n",
              "    <tr>\n",
              "      <th>0</th>\n",
              "      <td>0</td>\n",
              "      <td>57.0</td>\n",
              "      <td>0.3352</td>\n",
              "      <td>abuse, drug, traffic, opioids, opiates, epidem...</td>\n",
              "      <td>[opioids, opiates, drug, abuse, traffic, unite...</td>\n",
              "      <td>5adb8334068401528a2a9f74</td>\n",
              "      <td>1524428703</td>\n",
              "      <td>1571.0</td>\n",
              "      <td>Thank you for a well-balanced presentation of ...</td>\n",
              "      <td>26831654.0</td>\n",
              "      <td>26831654.0</td>\n",
              "      <td>&lt;br/&gt;</td>\n",
              "      <td>comment</td>\n",
              "      <td>1.524420e+09</td>\n",
              "      <td>1.0</td>\n",
              "      <td>0</td>\n",
              "      <td>0.0</td>\n",
              "      <td>Editorial</td>\n",
              "      <td>0.0</td>\n",
              "      <td>NaN</td>\n",
              "      <td>26831654</td>\n",
              "      <td>http://graphics8.nytimes.com/images/apps/times...</td>\n",
              "      <td>10.0</td>\n",
              "      <td>8.0</td>\n",
              "      <td>NaN</td>\n",
              "      <td>0.0</td>\n",
              "      <td>NaN</td>\n",
              "      <td>Sunday Review</td>\n",
              "      <td>0</td>\n",
              "      <td>approved</td>\n",
              "      <td>1.0</td>\n",
              "      <td>0.0</td>\n",
              "      <td>1524428703</td>\n",
              "      <td>serenity</td>\n",
              "      <td>690130.0</td>\n",
              "      <td>california</td>\n",
              "      <td>NaN</td>\n",
              "      <td>NaN</td>\n",
              "      <td>Editorial</td>\n",
              "      <td>0</td>\n",
              "      <td>1</td>\n",
              "    </tr>\n",
              "    <tr>\n",
              "      <th>1</th>\n",
              "      <td>0</td>\n",
              "      <td>57.0</td>\n",
              "      <td>0.3352</td>\n",
              "      <td>abuse, drug, traffic, opioids, opiates, epidem...</td>\n",
              "      <td>[opioids, opiates, drug, abuse, traffic, unite...</td>\n",
              "      <td>5adb8334068401528a2a9f74</td>\n",
              "      <td>1524428676</td>\n",
              "      <td>1571.0</td>\n",
              "      <td>Fight amongst yourselves. Excuse me while inje...</td>\n",
              "      <td>26831251.0</td>\n",
              "      <td>26831251.0</td>\n",
              "      <td>&lt;br/&gt;</td>\n",
              "      <td>comment</td>\n",
              "      <td>1.524416e+09</td>\n",
              "      <td>1.0</td>\n",
              "      <td>0</td>\n",
              "      <td>0.0</td>\n",
              "      <td>Editorial</td>\n",
              "      <td>0.0</td>\n",
              "      <td>NaN</td>\n",
              "      <td>26831251</td>\n",
              "      <td>http://graphics8.nytimes.com/images/apps/times...</td>\n",
              "      <td>10.0</td>\n",
              "      <td>1.0</td>\n",
              "      <td>NaN</td>\n",
              "      <td>0.0</td>\n",
              "      <td>NaN</td>\n",
              "      <td>Sunday Review</td>\n",
              "      <td>0</td>\n",
              "      <td>approved</td>\n",
              "      <td>1.0</td>\n",
              "      <td>0.0</td>\n",
              "      <td>1524428676</td>\n",
              "      <td>Jean</td>\n",
              "      <td>67292551.0</td>\n",
              "      <td>Los Angeles</td>\n",
              "      <td>NaN</td>\n",
              "      <td>NaN</td>\n",
              "      <td>Editorial</td>\n",
              "      <td>0</td>\n",
              "      <td>1</td>\n",
              "    </tr>\n",
              "    <tr>\n",
              "      <th>2</th>\n",
              "      <td>0</td>\n",
              "      <td>57.0</td>\n",
              "      <td>0.3352</td>\n",
              "      <td>abuse, drug, traffic, opioids, opiates, epidem...</td>\n",
              "      <td>[opioids, opiates, drug, abuse, traffic, unite...</td>\n",
              "      <td>5adb8334068401528a2a9f74</td>\n",
              "      <td>1524427057</td>\n",
              "      <td>1571.0</td>\n",
              "      <td>During AIDS crisis no plans of mass quarantine...</td>\n",
              "      <td>26831451.0</td>\n",
              "      <td>26831451.0</td>\n",
              "      <td>&lt;br/&gt;</td>\n",
              "      <td>comment</td>\n",
              "      <td>1.524418e+09</td>\n",
              "      <td>1.0</td>\n",
              "      <td>0</td>\n",
              "      <td>0.0</td>\n",
              "      <td>Editorial</td>\n",
              "      <td>0.0</td>\n",
              "      <td>NaN</td>\n",
              "      <td>26831451</td>\n",
              "      <td>http://graphics8.nytimes.com/images/apps/times...</td>\n",
              "      <td>10.0</td>\n",
              "      <td>8.0</td>\n",
              "      <td>NaN</td>\n",
              "      <td>0.0</td>\n",
              "      <td>NaN</td>\n",
              "      <td>Sunday Review</td>\n",
              "      <td>0</td>\n",
              "      <td>approved</td>\n",
              "      <td>1.0</td>\n",
              "      <td>0.0</td>\n",
              "      <td>1524427057</td>\n",
              "      <td>Bulgakov's Cat</td>\n",
              "      <td>67115499.0</td>\n",
              "      <td>Bean fields to the left, corn to the right</td>\n",
              "      <td>NaN</td>\n",
              "      <td>NaN</td>\n",
              "      <td>Editorial</td>\n",
              "      <td>0</td>\n",
              "      <td>1</td>\n",
              "    </tr>\n",
              "    <tr>\n",
              "      <th>3</th>\n",
              "      <td>0</td>\n",
              "      <td>57.0</td>\n",
              "      <td>0.3352</td>\n",
              "      <td>abuse, drug, traffic, opioids, opiates, epidem...</td>\n",
              "      <td>[opioids, opiates, drug, abuse, traffic, unite...</td>\n",
              "      <td>5adb8334068401528a2a9f74</td>\n",
              "      <td>1524424759</td>\n",
              "      <td>1571.0</td>\n",
              "      <td>We've had a \"drug problem\" in the Untied State...</td>\n",
              "      <td>26831724.0</td>\n",
              "      <td>26831724.0</td>\n",
              "      <td>&lt;br/&gt;</td>\n",
              "      <td>comment</td>\n",
              "      <td>1.524420e+09</td>\n",
              "      <td>1.0</td>\n",
              "      <td>0</td>\n",
              "      <td>0.0</td>\n",
              "      <td>Editorial</td>\n",
              "      <td>0.0</td>\n",
              "      <td>NaN</td>\n",
              "      <td>26831724</td>\n",
              "      <td>http://graphics8.nytimes.com/images/apps/times...</td>\n",
              "      <td>10.0</td>\n",
              "      <td>6.0</td>\n",
              "      <td>NaN</td>\n",
              "      <td>0.0</td>\n",
              "      <td>NaN</td>\n",
              "      <td>Sunday Review</td>\n",
              "      <td>0</td>\n",
              "      <td>approved</td>\n",
              "      <td>1.0</td>\n",
              "      <td>0.0</td>\n",
              "      <td>1524424759</td>\n",
              "      <td>Trina</td>\n",
              "      <td>42660931.0</td>\n",
              "      <td>Indiana</td>\n",
              "      <td>NaN</td>\n",
              "      <td>NaN</td>\n",
              "      <td>Editorial</td>\n",
              "      <td>0</td>\n",
              "      <td>1</td>\n",
              "    </tr>\n",
              "    <tr>\n",
              "      <th>4</th>\n",
              "      <td>0</td>\n",
              "      <td>57.0</td>\n",
              "      <td>0.3352</td>\n",
              "      <td>abuse, drug, traffic, opioids, opiates, epidem...</td>\n",
              "      <td>[opioids, opiates, drug, abuse, traffic, unite...</td>\n",
              "      <td>5adb8334068401528a2a9f74</td>\n",
              "      <td>1524423091</td>\n",
              "      <td>1571.0</td>\n",
              "      <td>The NYT editors begin with some very important...</td>\n",
              "      <td>26831320.0</td>\n",
              "      <td>26831320.0</td>\n",
              "      <td>&lt;br/&gt;</td>\n",
              "      <td>comment</td>\n",
              "      <td>1.524417e+09</td>\n",
              "      <td>1.0</td>\n",
              "      <td>0</td>\n",
              "      <td>0.0</td>\n",
              "      <td>Editorial</td>\n",
              "      <td>0.0</td>\n",
              "      <td>NaN</td>\n",
              "      <td>26831320</td>\n",
              "      <td>https://s3.amazonaws.com/pimage.timespeople.ny...</td>\n",
              "      <td>10.0</td>\n",
              "      <td>8.0</td>\n",
              "      <td>NaN</td>\n",
              "      <td>0.0</td>\n",
              "      <td>NaN</td>\n",
              "      <td>Sunday Review</td>\n",
              "      <td>0</td>\n",
              "      <td>approved</td>\n",
              "      <td>1.0</td>\n",
              "      <td>0.0</td>\n",
              "      <td>1524423091</td>\n",
              "      <td>Wherever Hugo</td>\n",
              "      <td>58937383.0</td>\n",
              "      <td>There, UR</td>\n",
              "      <td>NaN</td>\n",
              "      <td>NaN</td>\n",
              "      <td>Editorial</td>\n",
              "      <td>0</td>\n",
              "      <td>1</td>\n",
              "    </tr>\n",
              "    <tr>\n",
              "      <th>...</th>\n",
              "      <td>...</td>\n",
              "      <td>...</td>\n",
              "      <td>...</td>\n",
              "      <td>...</td>\n",
              "      <td>...</td>\n",
              "      <td>...</td>\n",
              "      <td>...</td>\n",
              "      <td>...</td>\n",
              "      <td>...</td>\n",
              "      <td>...</td>\n",
              "      <td>...</td>\n",
              "      <td>...</td>\n",
              "      <td>...</td>\n",
              "      <td>...</td>\n",
              "      <td>...</td>\n",
              "      <td>...</td>\n",
              "      <td>...</td>\n",
              "      <td>...</td>\n",
              "      <td>...</td>\n",
              "      <td>...</td>\n",
              "      <td>...</td>\n",
              "      <td>...</td>\n",
              "      <td>...</td>\n",
              "      <td>...</td>\n",
              "      <td>...</td>\n",
              "      <td>...</td>\n",
              "      <td>...</td>\n",
              "      <td>...</td>\n",
              "      <td>...</td>\n",
              "      <td>...</td>\n",
              "      <td>...</td>\n",
              "      <td>...</td>\n",
              "      <td>...</td>\n",
              "      <td>...</td>\n",
              "      <td>...</td>\n",
              "      <td>...</td>\n",
              "      <td>...</td>\n",
              "      <td>...</td>\n",
              "      <td>...</td>\n",
              "      <td>...</td>\n",
              "      <td>...</td>\n",
              "    </tr>\n",
              "    <tr>\n",
              "      <th>1418721</th>\n",
              "      <td>9334</td>\n",
              "      <td>29.0</td>\n",
              "      <td>0.3347</td>\n",
              "      <td>theater, play, transportation, lee, evans, tee...</td>\n",
              "      <td>[theater, tony, awards, theater, awards, ameri...</td>\n",
              "      <td>5ae82ca3068401528a2ab97a</td>\n",
              "      <td>1525188962</td>\n",
              "      <td>2055.0</td>\n",
              "      <td>Kiddie books, characters, cartoon idiocy.  Poo...</td>\n",
              "      <td>26931540.0</td>\n",
              "      <td>26931540.0</td>\n",
              "      <td>&lt;br/&gt;</td>\n",
              "      <td>comment</td>\n",
              "      <td>1.525181e+09</td>\n",
              "      <td>1.0</td>\n",
              "      <td>0</td>\n",
              "      <td>0.0</td>\n",
              "      <td>Culture</td>\n",
              "      <td>0.0</td>\n",
              "      <td>NaN</td>\n",
              "      <td>26931540</td>\n",
              "      <td>http://graphics8.nytimes.com/images/apps/times...</td>\n",
              "      <td>0.0</td>\n",
              "      <td>19.0</td>\n",
              "      <td>NaN</td>\n",
              "      <td>0.0</td>\n",
              "      <td>NaN</td>\n",
              "      <td>Unknown</td>\n",
              "      <td>0</td>\n",
              "      <td>approved</td>\n",
              "      <td>1.0</td>\n",
              "      <td>0.0</td>\n",
              "      <td>1525188962</td>\n",
              "      <td>Betsy Herring</td>\n",
              "      <td>59790721.0</td>\n",
              "      <td>Edmond, OK</td>\n",
              "      <td>NaN</td>\n",
              "      <td>NaN</td>\n",
              "      <td>News</td>\n",
              "      <td>0</td>\n",
              "      <td>1</td>\n",
              "    </tr>\n",
              "    <tr>\n",
              "      <th>1418722</th>\n",
              "      <td>9334</td>\n",
              "      <td>29.0</td>\n",
              "      <td>0.3347</td>\n",
              "      <td>theater, play, transportation, lee, evans, tee...</td>\n",
              "      <td>[theater, tony, awards, theater, awards, ameri...</td>\n",
              "      <td>5ae82ca3068401528a2ab97a</td>\n",
              "      <td>1525188339</td>\n",
              "      <td>2055.0</td>\n",
              "      <td>so, this is Broadway now?...SpongeBob, Frozen,...</td>\n",
              "      <td>26931921.0</td>\n",
              "      <td>26931921.0</td>\n",
              "      <td>&lt;br/&gt;</td>\n",
              "      <td>comment</td>\n",
              "      <td>1.525182e+09</td>\n",
              "      <td>1.0</td>\n",
              "      <td>0</td>\n",
              "      <td>0.0</td>\n",
              "      <td>Culture</td>\n",
              "      <td>0.0</td>\n",
              "      <td>NaN</td>\n",
              "      <td>26931921</td>\n",
              "      <td>http://graphics8.nytimes.com/images/apps/times...</td>\n",
              "      <td>0.0</td>\n",
              "      <td>25.0</td>\n",
              "      <td>NaN</td>\n",
              "      <td>0.0</td>\n",
              "      <td>NaN</td>\n",
              "      <td>Unknown</td>\n",
              "      <td>0</td>\n",
              "      <td>approved</td>\n",
              "      <td>1.0</td>\n",
              "      <td>0.0</td>\n",
              "      <td>1525188339</td>\n",
              "      <td>Jim</td>\n",
              "      <td>57128966.0</td>\n",
              "      <td>NH</td>\n",
              "      <td>NaN</td>\n",
              "      <td>NaN</td>\n",
              "      <td>News</td>\n",
              "      <td>0</td>\n",
              "      <td>1</td>\n",
              "    </tr>\n",
              "    <tr>\n",
              "      <th>1418723</th>\n",
              "      <td>9334</td>\n",
              "      <td>29.0</td>\n",
              "      <td>0.3347</td>\n",
              "      <td>theater, play, transportation, lee, evans, tee...</td>\n",
              "      <td>[theater, tony, awards, theater, awards, ameri...</td>\n",
              "      <td>5ae82ca3068401528a2ab97a</td>\n",
              "      <td>1525188314</td>\n",
              "      <td>2055.0</td>\n",
              "      <td>I'm hoping the Band's Visit takes it away. If ...</td>\n",
              "      <td>26932651.0</td>\n",
              "      <td>26932651.0</td>\n",
              "      <td>&lt;br/&gt;</td>\n",
              "      <td>comment</td>\n",
              "      <td>1.525185e+09</td>\n",
              "      <td>1.0</td>\n",
              "      <td>0</td>\n",
              "      <td>0.0</td>\n",
              "      <td>Culture</td>\n",
              "      <td>0.0</td>\n",
              "      <td>NaN</td>\n",
              "      <td>26932651</td>\n",
              "      <td>http://graphics8.nytimes.com/images/apps/times...</td>\n",
              "      <td>0.0</td>\n",
              "      <td>21.0</td>\n",
              "      <td>NaN</td>\n",
              "      <td>2.0</td>\n",
              "      <td>NaN</td>\n",
              "      <td>Unknown</td>\n",
              "      <td>0</td>\n",
              "      <td>approved</td>\n",
              "      <td>1.0</td>\n",
              "      <td>0.0</td>\n",
              "      <td>1525188314</td>\n",
              "      <td>llopez</td>\n",
              "      <td>79365959.0</td>\n",
              "      <td>NY</td>\n",
              "      <td>NaN</td>\n",
              "      <td>NaN</td>\n",
              "      <td>News</td>\n",
              "      <td>1</td>\n",
              "      <td>1</td>\n",
              "    </tr>\n",
              "    <tr>\n",
              "      <th>1418724</th>\n",
              "      <td>9334</td>\n",
              "      <td>29.0</td>\n",
              "      <td>0.3347</td>\n",
              "      <td>theater, play, transportation, lee, evans, tee...</td>\n",
              "      <td>[theater, tony, awards, theater, awards, ameri...</td>\n",
              "      <td>5ae82ca3068401528a2ab97a</td>\n",
              "      <td>1525186866</td>\n",
              "      <td>2055.0</td>\n",
              "      <td>The Schumer nomination is a desperate attempt ...</td>\n",
              "      <td>26933233.0</td>\n",
              "      <td>26933233.0</td>\n",
              "      <td>&lt;br/&gt;</td>\n",
              "      <td>comment</td>\n",
              "      <td>1.525187e+09</td>\n",
              "      <td>1.0</td>\n",
              "      <td>0</td>\n",
              "      <td>0.0</td>\n",
              "      <td>Culture</td>\n",
              "      <td>0.0</td>\n",
              "      <td>NaN</td>\n",
              "      <td>26933233</td>\n",
              "      <td>http://graphics8.nytimes.com/images/apps/times...</td>\n",
              "      <td>0.0</td>\n",
              "      <td>6.0</td>\n",
              "      <td>NaN</td>\n",
              "      <td>1.0</td>\n",
              "      <td>NaN</td>\n",
              "      <td>Unknown</td>\n",
              "      <td>0</td>\n",
              "      <td>approved</td>\n",
              "      <td>1.0</td>\n",
              "      <td>0.0</td>\n",
              "      <td>1525186866</td>\n",
              "      <td>DSM14</td>\n",
              "      <td>58163322.0</td>\n",
              "      <td>Westfield NJ</td>\n",
              "      <td>NaN</td>\n",
              "      <td>NaN</td>\n",
              "      <td>News</td>\n",
              "      <td>1</td>\n",
              "      <td>1</td>\n",
              "    </tr>\n",
              "    <tr>\n",
              "      <th>1418725</th>\n",
              "      <td>9334</td>\n",
              "      <td>29.0</td>\n",
              "      <td>0.3347</td>\n",
              "      <td>theater, play, transportation, lee, evans, tee...</td>\n",
              "      <td>[theater, tony, awards, theater, awards, ameri...</td>\n",
              "      <td>5ae82ca3068401528a2ab97a</td>\n",
              "      <td>1525184261</td>\n",
              "      <td>2055.0</td>\n",
              "      <td>In the system for receiving, recording, and co...</td>\n",
              "      <td>26932476.0</td>\n",
              "      <td>26932476.0</td>\n",
              "      <td>&lt;br/&gt;</td>\n",
              "      <td>comment</td>\n",
              "      <td>1.525184e+09</td>\n",
              "      <td>1.0</td>\n",
              "      <td>0</td>\n",
              "      <td>0.0</td>\n",
              "      <td>Culture</td>\n",
              "      <td>0.0</td>\n",
              "      <td>NaN</td>\n",
              "      <td>26932476</td>\n",
              "      <td>https://s3.amazonaws.com/pimage.timespeople.ny...</td>\n",
              "      <td>0.0</td>\n",
              "      <td>8.0</td>\n",
              "      <td>NaN</td>\n",
              "      <td>0.0</td>\n",
              "      <td>NaN</td>\n",
              "      <td>Unknown</td>\n",
              "      <td>0</td>\n",
              "      <td>approved</td>\n",
              "      <td>1.0</td>\n",
              "      <td>0.0</td>\n",
              "      <td>1525184261</td>\n",
              "      <td>Dick Purcell</td>\n",
              "      <td>49453908.0</td>\n",
              "      <td>Leadville, CO</td>\n",
              "      <td>NaN</td>\n",
              "      <td>NaN</td>\n",
              "      <td>News</td>\n",
              "      <td>0</td>\n",
              "      <td>1</td>\n",
              "    </tr>\n",
              "  </tbody>\n",
              "</table>\n",
              "<p>1418726 rows × 41 columns</p>\n",
              "</div>"
            ],
            "text/plain": [
              "         Document_No  Dominant_Topic  ...  y predicted\n",
              "0                  0            57.0  ...  0         1\n",
              "1                  0            57.0  ...  0         1\n",
              "2                  0            57.0  ...  0         1\n",
              "3                  0            57.0  ...  0         1\n",
              "4                  0            57.0  ...  0         1\n",
              "...              ...             ...  ... ..       ...\n",
              "1418721         9334            29.0  ...  0         1\n",
              "1418722         9334            29.0  ...  0         1\n",
              "1418723         9334            29.0  ...  1         1\n",
              "1418724         9334            29.0  ...  1         1\n",
              "1418725         9334            29.0  ...  0         1\n",
              "\n",
              "[1418726 rows x 41 columns]"
            ]
          },
          "metadata": {
            "tags": []
          },
          "execution_count": 121
        }
      ]
    },
    {
      "cell_type": "code",
      "metadata": {
        "id": "WZg8KV_WlzjY"
      },
      "source": [
        "comments_per_topic = inner_join.groupby('Dominant_Topic').sum()"
      ],
      "execution_count": null,
      "outputs": []
    },
    {
      "cell_type": "code",
      "metadata": {
        "id": "Ucndqg5jTUfh"
      },
      "source": [
        "df_topics = pd.DataFrame(inner_join['Dominant_Topic'].unique()) #len 50"
      ],
      "execution_count": null,
      "outputs": []
    },
    {
      "cell_type": "code",
      "metadata": {
        "id": "hP5iEJY0VKcy"
      },
      "source": [
        "df_topics = df_topics.sort_values(by=0)"
      ],
      "execution_count": null,
      "outputs": []
    },
    {
      "cell_type": "code",
      "metadata": {
        "id": "PnI_ppQBh_rF"
      },
      "source": [
        "d = []\n",
        "for i in inner_join['Dominant_Topic'].unique():\n",
        "  df = [x for x, e in enumerate(inner_join['Dominant_Topic'].squeeze()) if e == i]\n",
        "  d.append(df)"
      ],
      "execution_count": null,
      "outputs": []
    },
    {
      "cell_type": "code",
      "metadata": {
        "id": "ErylnmhIUPsW"
      },
      "source": [
        "number_of_comments=[]\n",
        "for i in range(len(d)):\n",
        "  l = len(d[i])\n",
        "  number_of_comments.append(l)"
      ],
      "execution_count": null,
      "outputs": []
    },
    {
      "cell_type": "code",
      "metadata": {
        "id": "R-zDCm0_V6bO"
      },
      "source": [
        "df_topics['number_of_comments'] = pd.DataFrame(number_of_comments)"
      ],
      "execution_count": null,
      "outputs": []
    },
    {
      "cell_type": "code",
      "metadata": {
        "colab": {
          "base_uri": "https://localhost:8080/",
          "height": 299
        },
        "id": "gAWpJzSiWm7H",
        "outputId": "bb4ece0a-4e18-4413-f029-66957993f18c"
      },
      "source": [
        "pd.DataFrame(number_of_comments).plot(color='blue', title='Number of comments per topic')"
      ],
      "execution_count": null,
      "outputs": [
        {
          "output_type": "execute_result",
          "data": {
            "text/plain": [
              "<matplotlib.axes._subplots.AxesSubplot at 0x7fecc15d4750>"
            ]
          },
          "metadata": {
            "tags": []
          },
          "execution_count": 194
        },
        {
          "output_type": "display_data",
          "data": {
            "image/png": "[encoded data removed]",
            "text/plain": [
              "<Figure size 432x288 with 1 Axes>"
            ]
          },
          "metadata": {
            "tags": [],
            "needs_background": "light"
          }
        }
      ]
    },
    {
      "cell_type": "code",
      "metadata": {
        "colab": {
          "base_uri": "https://localhost:8080/",
          "height": 288
        },
        "id": "sRQZuazJWtAF",
        "outputId": "9e665f67-83cc-4be5-8f7a-ca36603e9fd8"
      },
      "source": [
        "df_topics[df_topics['number_of_comments'] >= 30000] #topics have been reindexed"
      ],
      "execution_count": null,
      "outputs": [
        {
          "output_type": "execute_result",
          "data": {
            "text/html": [
              "<div>\n",
              "<style scoped>\n",
              "    .dataframe tbody tr th:only-of-type {\n",
              "        vertical-align: middle;\n",
              "    }\n",
              "\n",
              "    .dataframe tbody tr th {\n",
              "        vertical-align: top;\n",
              "    }\n",
              "\n",
              "    .dataframe thead th {\n",
              "        text-align: right;\n",
              "    }\n",
              "</style>\n",
              "<table border=\"1\" class=\"dataframe\">\n",
              "  <thead>\n",
              "    <tr style=\"text-align: right;\">\n",
              "      <th></th>\n",
              "      <th>0</th>\n",
              "      <th>number_of_comments</th>\n",
              "    </tr>\n",
              "  </thead>\n",
              "  <tbody>\n",
              "    <tr>\n",
              "      <th>22</th>\n",
              "      <td>0.0</td>\n",
              "      <td>51595</td>\n",
              "    </tr>\n",
              "    <tr>\n",
              "      <th>2</th>\n",
              "      <td>15.0</td>\n",
              "      <td>81352</td>\n",
              "    </tr>\n",
              "    <tr>\n",
              "      <th>1</th>\n",
              "      <td>16.0</td>\n",
              "      <td>58923</td>\n",
              "    </tr>\n",
              "    <tr>\n",
              "      <th>10</th>\n",
              "      <td>22.0</td>\n",
              "      <td>33580</td>\n",
              "    </tr>\n",
              "    <tr>\n",
              "      <th>27</th>\n",
              "      <td>23.0</td>\n",
              "      <td>62059</td>\n",
              "    </tr>\n",
              "    <tr>\n",
              "      <th>13</th>\n",
              "      <td>30.0</td>\n",
              "      <td>89055</td>\n",
              "    </tr>\n",
              "    <tr>\n",
              "      <th>3</th>\n",
              "      <td>34.0</td>\n",
              "      <td>77938</td>\n",
              "    </tr>\n",
              "    <tr>\n",
              "      <th>20</th>\n",
              "      <td>50.0</td>\n",
              "      <td>571711</td>\n",
              "    </tr>\n",
              "  </tbody>\n",
              "</table>\n",
              "</div>"
            ],
            "text/plain": [
              "       0  number_of_comments\n",
              "22   0.0               51595\n",
              "2   15.0               81352\n",
              "1   16.0               58923\n",
              "10  22.0               33580\n",
              "27  23.0               62059\n",
              "13  30.0               89055\n",
              "3   34.0               77938\n",
              "20  50.0              571711"
            ]
          },
          "metadata": {
            "tags": []
          },
          "execution_count": 210
        }
      ]
    },
    {
      "cell_type": "code",
      "metadata": {
        "id": "R1NeCD6oiCak"
      },
      "source": [
        "def remove_stopwords(texts):\n",
        "    return [[word.lower() for word in simple_preprocess(str(doc)) if word not in stop_words_en] for doc in texts]"
      ],
      "execution_count": null,
      "outputs": []
    },
    {
      "cell_type": "code",
      "metadata": {
        "id": "FfsVaMckiGbk"
      },
      "source": [
        "cleaned_comments = remove_stopwords(inner_join['commentBody'])"
      ],
      "execution_count": null,
      "outputs": []
    },
    {
      "cell_type": "code",
      "metadata": {
        "id": "JY18w_ORiJJM"
      },
      "source": [
        "from textblob import TextBlob"
      ],
      "execution_count": null,
      "outputs": []
    },
    {
      "cell_type": "code",
      "metadata": {
        "id": "JJAO03toilBJ"
      },
      "source": [
        "##\n",
        "blob_0=[]\n",
        "for i in d[22]:\n",
        "  blob = TextBlob(str(cleaned_comments[i]))\n",
        "  blob_0.append(blob)\n",
        "sentiment0=[]\n",
        "for sent in blob_0:\n",
        "  sentiment0.append(sent.sentiment.polarity)"
      ],
      "execution_count": null,
      "outputs": []
    },
    {
      "cell_type": "code",
      "metadata": {
        "colab": {
          "base_uri": "https://localhost:8080/",
          "height": 299
        },
        "id": "OCGz9R-AnwQx",
        "outputId": "93ec4ebf-7f68-4033-e625-4204792152c6"
      },
      "source": [
        "df0 = pd.DataFrame(sentiment0)\n",
        "df0.plot(color='lightblue', title='Comments Polarity_Topic0')"
      ],
      "execution_count": null,
      "outputs": [
        {
          "output_type": "execute_result",
          "data": {
            "text/plain": [
              "<matplotlib.axes._subplots.AxesSubplot at 0x7fecab031710>"
            ]
          },
          "metadata": {
            "tags": []
          },
          "execution_count": 203
        },
        {
          "output_type": "display_data",
          "data": {
            "image/png": "[encoded data removed]",
            "text/plain": [
              "<Figure size 432x288 with 1 Axes>"
            ]
          },
          "metadata": {
            "tags": [],
            "needs_background": "light"
          }
        }
      ]
    },
    {
      "cell_type": "code",
      "metadata": {
        "colab": {
          "base_uri": "https://localhost:8080/"
        },
        "id": "BT6ByYtRXpuO",
        "outputId": "6717e6e5-0e81-44a8-cb7e-682b52af89b9"
      },
      "source": [
        "len(d[22]) #topic 0"
      ],
      "execution_count": null,
      "outputs": [
        {
          "output_type": "execute_result",
          "data": {
            "text/plain": [
              "51595"
            ]
          },
          "metadata": {
            "tags": []
          },
          "execution_count": 197
        }
      ]
    },
    {
      "cell_type": "code",
      "metadata": {
        "colab": {
          "base_uri": "https://localhost:8080/"
        },
        "id": "Q3WxFOTMusen",
        "outputId": "496e86ff-fa3e-4dd5-8195-c5ab14fa5f1c"
      },
      "source": [
        "model.show_topic(0)"
      ],
      "execution_count": null,
      "outputs": [
        {
          "output_type": "execute_result",
          "data": {
            "text/plain": [
              "[('inc', 0.92693055),\n",
              " ('diet', 0.029002342),\n",
              " ('nutrition', 0.029002342),\n",
              " ('education', 1.3934357e-06),\n",
              " ('back', 1.3933817e-06),\n",
              " ('city', 1.3933807e-06),\n",
              " ('nyc', 1.393379e-06),\n",
              " ('roots', 1.3933749e-06),\n",
              " ('department', 1.3933737e-06),\n",
              " ('company', 1.3933723e-06)]"
            ]
          },
          "metadata": {
            "tags": []
          },
          "execution_count": 199
        }
      ]
    },
    {
      "cell_type": "code",
      "metadata": {
        "id": "lgAca8VSaJPH"
      },
      "source": [
        "blob_15=[]\n",
        "for i in d[2]:\n",
        "  blob = TextBlob(str(cleaned_comments[i]))\n",
        "  blob_15.append(blob)\n",
        "sentiment15=[]\n",
        "for sent in blob_15:\n",
        "  sentiment15.append(sent.sentiment.polarity)"
      ],
      "execution_count": null,
      "outputs": []
    },
    {
      "cell_type": "code",
      "metadata": {
        "colab": {
          "base_uri": "https://localhost:8080/",
          "height": 299
        },
        "id": "EMb8fSLQwMTV",
        "outputId": "276fe795-cfa5-4f52-ccbd-aa2c4d663f33"
      },
      "source": [
        "df15 = pd.DataFrame(sentiment15)\n",
        "df15.plot(color='yellow', title='Comments Polarity_Topic15')"
      ],
      "execution_count": null,
      "outputs": [
        {
          "output_type": "execute_result",
          "data": {
            "text/plain": [
              "<matplotlib.axes._subplots.AxesSubplot at 0x7fec4585a610>"
            ]
          },
          "metadata": {
            "tags": []
          },
          "execution_count": 229
        },
        {
          "output_type": "display_data",
          "data": {
            "image/png": "[encoded data removed]",
            "text/plain": [
              "<Figure size 432x288 with 1 Axes>"
            ]
          },
          "metadata": {
            "tags": [],
            "needs_background": "light"
          }
        }
      ]
    },
    {
      "cell_type": "code",
      "metadata": {
        "colab": {
          "base_uri": "https://localhost:8080/"
        },
        "id": "ybOWsLsbaY6n",
        "outputId": "2ffc94be-ae4f-48c7-be0a-b41ffc4717cd"
      },
      "source": [
        "model.show_topic(15)"
      ],
      "execution_count": null,
      "outputs": [
        {
          "output_type": "execute_result",
          "data": {
            "text/plain": [
              "[('international', 0.16100113),\n",
              " ('united', 0.15165763),\n",
              " ('relations', 0.14352131),\n",
              " ('states', 0.14168668),\n",
              " ('defense', 0.092441835),\n",
              " ('forces', 0.07267855),\n",
              " ('military', 0.07224995),\n",
              " ('korea', 0.065507516),\n",
              " ('south', 0.03801068),\n",
              " ('conflicts', 0.0135026425)]"
            ]
          },
          "metadata": {
            "tags": []
          },
          "execution_count": 211
        }
      ]
    },
    {
      "cell_type": "code",
      "metadata": {
        "colab": {
          "base_uri": "https://localhost:8080/",
          "height": 299
        },
        "id": "7EAsIqdOahty",
        "outputId": "da30b0da-4554-4219-ec07-5c6cfa88e852"
      },
      "source": [
        "blob_16=[]\n",
        "for i in d[1]:\n",
        "  blob = TextBlob(str(cleaned_comments[i]))\n",
        "  blob_16.append(blob)\n",
        "sentiment16=[]\n",
        "for sent in blob_16:\n",
        "  sentiment16.append(sent.sentiment.polarity)\n",
        "df16 = pd.DataFrame(sentiment16)\n",
        "df16.plot(color='lightgreen', title='Comments Polarity_Topic16')"
      ],
      "execution_count": null,
      "outputs": [
        {
          "output_type": "execute_result",
          "data": {
            "text/plain": [
              "<matplotlib.axes._subplots.AxesSubplot at 0x7fec180e35d0>"
            ]
          },
          "metadata": {
            "tags": []
          },
          "execution_count": 213
        },
        {
          "output_type": "display_data",
          "data": {
            "image/png": "[encoded data removed]",
            "text/plain": [
              "<Figure size 432x288 with 1 Axes>"
            ]
          },
          "metadata": {
            "tags": [],
            "needs_background": "light"
          }
        }
      ]
    },
    {
      "cell_type": "code",
      "metadata": {
        "colab": {
          "base_uri": "https://localhost:8080/"
        },
        "id": "m-pQoVnbarzy",
        "outputId": "9351e4f6-69ec-4ccc-90b8-c6e925d123a8"
      },
      "source": [
        "model.show_topic(16)"
      ],
      "execution_count": null,
      "outputs": [
        {
          "output_type": "execute_result",
          "data": {
            "text/plain": [
              "[('trump', 0.13067777),\n",
              " ('us', 0.11803436),\n",
              " ('russian', 0.116555445),\n",
              " ('ties', 0.11434316),\n",
              " ('associates', 0.11434316),\n",
              " ('interference', 0.11434316),\n",
              " ('robert', 0.09071405),\n",
              " ('cohen', 0.061739612),\n",
              " ('mueller', 0.04967921),\n",
              " ('organization', 0.025526984)]"
            ]
          },
          "metadata": {
            "tags": []
          },
          "execution_count": 214
        }
      ]
    },
    {
      "cell_type": "code",
      "metadata": {
        "id": "6YvSOAblZQEN"
      },
      "source": [
        "\n",
        "blob_22=[]\n",
        "for i in d[10]:\n",
        "  blob = TextBlob(str(cleaned_comments[i]))\n",
        "  blob_22.append(blob)\n",
        "sentiment22=[]\n",
        "for sent in blob_22:\n",
        "  sentiment22.append(sent.sentiment.polarity)"
      ],
      "execution_count": null,
      "outputs": []
    },
    {
      "cell_type": "code",
      "metadata": {
        "colab": {
          "base_uri": "https://localhost:8080/",
          "height": 299
        },
        "id": "tbMFUFOVv4sE",
        "outputId": "c836923e-f165-4231-b7d3-a0371722c950"
      },
      "source": [
        "df22 = pd.DataFrame(sentiment22)\n",
        "df22.plot(color='orange', title='Comments Polarity_Topic22')"
      ],
      "execution_count": null,
      "outputs": [
        {
          "output_type": "execute_result",
          "data": {
            "text/plain": [
              "<matplotlib.axes._subplots.AxesSubplot at 0x7fec457c0a90>"
            ]
          },
          "metadata": {
            "tags": []
          },
          "execution_count": 231
        },
        {
          "output_type": "display_data",
          "data": {
            "image/png": "[encoded data removed]",
            "text/plain": [
              "<Figure size 432x288 with 1 Axes>"
            ]
          },
          "metadata": {
            "tags": [],
            "needs_background": "light"
          }
        }
      ]
    },
    {
      "cell_type": "code",
      "metadata": {
        "colab": {
          "base_uri": "https://localhost:8080/"
        },
        "id": "BIsRZIs8bJq9",
        "outputId": "9c3c1965-e80f-44a9-ec37-730d0376052a"
      },
      "source": [
        "model.show_topic(22)"
      ],
      "execution_count": null,
      "outputs": [
        {
          "output_type": "execute_result",
          "data": {
            "text/plain": [
              "[('news', 0.22383721),\n",
              " ('media', 0.21772727),\n",
              " ('war', 0.12373609),\n",
              " ('social', 0.09226819),\n",
              " ('facebook', 0.0685817),\n",
              " ('times', 0.05575592),\n",
              " ('afghanistan', 0.038026832),\n",
              " ('islam', 0.031725388),\n",
              " ('muslims', 0.028251285),\n",
              " ('pregnancy', 0.023808107)]"
            ]
          },
          "metadata": {
            "tags": []
          },
          "execution_count": 216
        }
      ]
    },
    {
      "cell_type": "code",
      "metadata": {
        "id": "xO3GA6sZir2n"
      },
      "source": [
        "blob_23=[]\n",
        "for i in d[27]:\n",
        "  blob = TextBlob(str(cleaned_comments[i]))\n",
        "  blob_23.append(blob)\n",
        "sentiment23=[]\n",
        "for sent in blob_23:\n",
        "  sentiment23.append(sent.sentiment.polarity)"
      ],
      "execution_count": null,
      "outputs": []
    },
    {
      "cell_type": "code",
      "metadata": {
        "colab": {
          "base_uri": "https://localhost:8080/",
          "height": 299
        },
        "id": "NzruVH2cx-da",
        "outputId": "b76ada00-f758-42c5-dc22-223943395adf"
      },
      "source": [
        "df23 = pd.DataFrame(sentiment23)\n",
        "df23.plot(color='green', title='Comments Polarity_Topic23')"
      ],
      "execution_count": null,
      "outputs": [
        {
          "output_type": "execute_result",
          "data": {
            "text/plain": [
              "<matplotlib.axes._subplots.AxesSubplot at 0x7fea33e5b850>"
            ]
          },
          "metadata": {
            "tags": []
          },
          "execution_count": 234
        },
        {
          "output_type": "display_data",
          "data": {
            "image/png": "[encoded data removed]",
            "text/plain": [
              "<Figure size 432x288 with 1 Axes>"
            ]
          },
          "metadata": {
            "tags": [],
            "needs_background": "light"
          }
        }
      ]
    },
    {
      "cell_type": "code",
      "metadata": {
        "colab": {
          "base_uri": "https://localhost:8080/"
        },
        "id": "qpFX17V_uval",
        "outputId": "17c9a5a2-5948-444d-c0e2-55624f5c0b84"
      },
      "source": [
        "model.show_topic(23)"
      ],
      "execution_count": null,
      "outputs": [
        {
          "output_type": "execute_result",
          "data": {
            "text/plain": [
              "[('presidential', 0.12558948),\n",
              " ('election', 0.12409936),\n",
              " ('iii', 0.11348294),\n",
              " ('donald', 0.11145652),\n",
              " ('intelligence', 0.10705252),\n",
              " ('russia', 0.10264298),\n",
              " ('trump', 0.08674742),\n",
              " ('services', 0.07943225),\n",
              " ('espionage', 0.059887007),\n",
              " ('jefferson', 0.042109143)]"
            ]
          },
          "metadata": {
            "tags": []
          },
          "execution_count": 217
        }
      ]
    },
    {
      "cell_type": "code",
      "metadata": {
        "id": "VI-_Q0-6kPqj"
      },
      "source": [
        "blob_30=[]\n",
        "for i in d[13]:\n",
        "  blob = TextBlob(str(cleaned_comments[i]))\n",
        "  blob_30.append(blob)\n",
        "sentiment30=[]\n",
        "for sent in blob_30:\n",
        "  sentiment30.append(sent.sentiment.polarity)"
      ],
      "execution_count": null,
      "outputs": []
    },
    {
      "cell_type": "code",
      "metadata": {
        "colab": {
          "base_uri": "https://localhost:8080/",
          "height": 299
        },
        "id": "GzzVOypCBrk5",
        "outputId": "ddec2c8d-c54a-4be4-d418-1932def81f93"
      },
      "source": [
        "df30 = pd.DataFrame(sentiment30)\n",
        "df30.plot(color='blue', title='Comments Polarity_Topic30')"
      ],
      "execution_count": null,
      "outputs": [
        {
          "output_type": "execute_result",
          "data": {
            "text/plain": [
              "<matplotlib.axes._subplots.AxesSubplot at 0x7fec7e37a690>"
            ]
          },
          "metadata": {
            "tags": []
          },
          "execution_count": 205
        },
        {
          "output_type": "display_data",
          "data": {
            "image/png": "[encoded data removed]",
            "text/plain": [
              "<Figure size 432x288 with 1 Axes>"
            ]
          },
          "metadata": {
            "tags": [],
            "needs_background": "light"
          }
        }
      ]
    },
    {
      "cell_type": "code",
      "metadata": {
        "colab": {
          "base_uri": "https://localhost:8080/"
        },
        "id": "ZcwiRG3fYPX8",
        "outputId": "d0730518-46b3-497f-8d50-71d3dfcf91b8"
      },
      "source": [
        "model.show_topic(30)"
      ],
      "execution_count": null,
      "outputs": [
        {
          "output_type": "execute_result",
          "data": {
            "text/plain": [
              "[('care', 0.10837327),\n",
              " ('health', 0.10287363),\n",
              " ('democratic', 0.09942064),\n",
              " ('act', 0.09742873),\n",
              " ('queens', 0.07869434),\n",
              " ('restaurant', 0.0678675),\n",
              " ('insurance', 0.06655528),\n",
              " ('restaurants', 0.06210744),\n",
              " ('managed', 0.056635182),\n",
              " ('global', 0.04982287)]"
            ]
          },
          "metadata": {
            "tags": []
          },
          "execution_count": 218
        }
      ]
    },
    {
      "cell_type": "code",
      "metadata": {
        "id": "NK9cbDRxkckg"
      },
      "source": [
        "##\n",
        "blob_34=[]\n",
        "for i in d[3]:\n",
        "  blob = TextBlob(str(cleaned_comments[i]))\n",
        "  blob_34.append(blob)\n",
        "sentiment34=[]\n",
        "for sent in blob_34:\n",
        "  sentiment34.append(sent.sentiment.polarity)"
      ],
      "execution_count": null,
      "outputs": []
    },
    {
      "cell_type": "code",
      "metadata": {
        "colab": {
          "base_uri": "https://localhost:8080/",
          "height": 299
        },
        "id": "9ccQH4JUDACR",
        "outputId": "544471dc-9ef4-4db9-9221-812a8dc1f71d"
      },
      "source": [
        "df34 = pd.DataFrame(sentiment34)\n",
        "df34.plot(color='red', title='Comments Polarity_Topic34')"
      ],
      "execution_count": null,
      "outputs": [
        {
          "output_type": "execute_result",
          "data": {
            "text/plain": [
              "<matplotlib.axes._subplots.AxesSubplot at 0x7fec0f0df150>"
            ]
          },
          "metadata": {
            "tags": []
          },
          "execution_count": 219
        },
        {
          "output_type": "display_data",
          "data": {
            "image/png": "[encoded data removed]",
            "text/plain": [
              "<Figure size 432x288 with 1 Axes>"
            ]
          },
          "metadata": {
            "tags": [],
            "needs_background": "light"
          }
        }
      ]
    },
    {
      "cell_type": "code",
      "metadata": {
        "colab": {
          "base_uri": "https://localhost:8080/"
        },
        "id": "fvSEvedbuzvO",
        "outputId": "fd3c5883-f595-4b57-b6e0-c1ed39778e29"
      },
      "source": [
        "model.show_topic(34)"
      ],
      "execution_count": null,
      "outputs": [
        {
          "output_type": "execute_result",
          "data": {
            "text/plain": [
              "[('government', 0.29914102),\n",
              " ('politics', 0.29102463),\n",
              " ('states', 0.21259795),\n",
              " ('united', 0.19313724),\n",
              " ('education', 3.7929897e-07),\n",
              " ('gps', 3.7915217e-07),\n",
              " ('pencil', 3.7915217e-07),\n",
              " ('pencils', 3.7915217e-07),\n",
              " ('celiac', 3.7915217e-07),\n",
              " ('dreams', 3.7915217e-07)]"
            ]
          },
          "metadata": {
            "tags": []
          },
          "execution_count": 220
        }
      ]
    },
    {
      "cell_type": "code",
      "metadata": {
        "id": "pdIhqSWDmny8"
      },
      "source": [
        "##\n",
        "blob_50=[]\n",
        "for i in d[20]:\n",
        "  blob = TextBlob(str(cleaned_comments[i]))\n",
        "  blob_50.append(blob)\n",
        "sentiment50=[]\n",
        "for sent in blob_50:\n",
        "  sentiment50.append(sent.sentiment.polarity)"
      ],
      "execution_count": null,
      "outputs": []
    },
    {
      "cell_type": "code",
      "metadata": {
        "colab": {
          "base_uri": "https://localhost:8080/",
          "height": 299
        },
        "id": "3HfpflqeDGWe",
        "outputId": "22ede8d4-912d-4404-e14b-d7d202b1ad0e"
      },
      "source": [
        "df50 = pd.DataFrame(sentiment50)\n",
        "df50.plot(color='salmon', title='Comments Polarity_Topic50')"
      ],
      "execution_count": null,
      "outputs": [
        {
          "output_type": "execute_result",
          "data": {
            "text/plain": [
              "<matplotlib.axes._subplots.AxesSubplot at 0x7fea4781f8d0>"
            ]
          },
          "metadata": {
            "tags": []
          },
          "execution_count": 222
        },
        {
          "output_type": "display_data",
          "data": {
            "image/png": "[encoded data removed]",
            "text/plain": [
              "<Figure size 432x288 with 1 Axes>"
            ]
          },
          "metadata": {
            "tags": [],
            "needs_background": "light"
          }
        }
      ]
    },
    {
      "cell_type": "code",
      "metadata": {
        "colab": {
          "base_uri": "https://localhost:8080/"
        },
        "id": "KvWYgQGSu4xD",
        "outputId": "46f781cb-9eed-462d-b5c8-a3114abc1056"
      },
      "source": [
        "model.show_topic(50)"
      ],
      "execution_count": null,
      "outputs": [
        {
          "output_type": "execute_result",
          "data": {
            "text/plain": [
              "[('trump', 0.19449243),\n",
              " ('donald', 0.18921395),\n",
              " ('states', 0.17045084),\n",
              " ('united', 0.17021677),\n",
              " ('politics', 0.1411163),\n",
              " ('government', 0.1333679),\n",
              " ('fusion', 1.0562922e-07),\n",
              " ('pencil', 1.0562922e-07),\n",
              " ('dreams', 1.0562922e-07),\n",
              " ('gps', 1.0562922e-07)]"
            ]
          },
          "metadata": {
            "tags": []
          },
          "execution_count": 223
        }
      ]
    }
  ]
}